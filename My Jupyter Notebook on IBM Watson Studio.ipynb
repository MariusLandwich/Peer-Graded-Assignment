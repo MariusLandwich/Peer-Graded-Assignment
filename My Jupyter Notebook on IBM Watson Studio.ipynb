{
 "cells": [
  {
   "cell_type": "markdown",
   "id": "0da8907b",
   "metadata": {},
   "source": [
    "# My Jupyter Notebook on IBM Watson Studio"
   ]
  },
  {
   "cell_type": "markdown",
   "id": "c8726026",
   "metadata": {},
   "source": [
    "__Hi, my name is Marius.__\n",
    "\n",
    "I would like to become a Data Scientist"
   ]
  },
  {
   "cell_type": "markdown",
   "id": "950690c7",
   "metadata": {},
   "source": [
    "*I am interested in Data Science, because I  enjoy the mixture out of Data Cleansing, Analysing and Visualisation. It is challenging but also really interesting, which insights you can get out of your data.*"
   ]
  },
  {
   "cell_type": "markdown",
   "id": "255b585b",
   "metadata": {},
   "source": [
    "### My Code in Cell 5 is supposed to print my age "
   ]
  },
  {
   "cell_type": "code",
   "execution_count": 8,
   "id": "1ef28cf7",
   "metadata": {},
   "outputs": [
    {
     "name": "stdout",
     "output_type": "stream",
     "text": [
      "I am 28 years old\n"
     ]
    }
   ],
   "source": [
    "age = 28\n",
    "print(\"I am {} years old\".format(age))"
   ]
  },
  {
   "cell_type": "markdown",
   "id": "2403ab13",
   "metadata": {},
   "source": [
    "<a href=\"https://medium.com/edureka/jupyter-notebook-cheat-sheet-88f60d1aca7\">Jupyter Notebook Cheat Sheet: A Beginner’s Guide to Jupyter Notebook</a>\n",
    "\n",
    "---\n",
    "My Hobbies:\n",
    "1. Reading\n",
    "2. Sports\n",
    "3. Learning new Stuff\n",
    "---\n",
    "Top Series:\n",
    "- Game of Thrones\n",
    "- The Walking Dead\n",
    "- Vikings\n",
    "\n"
   ]
  },
  {
   "cell_type": "markdown",
   "id": "3242605b",
   "metadata": {},
   "source": [
    "|Movie|Actor|\n",
    "|-----|:-----:|\n",
    "|Game of Thrones|Emilia Clarke|\n",
    "|Indiana Jones|Harrison Ford|\n",
    "|Harry Potter|Daniel Radcliffe|"
   ]
  }
 ],
 "metadata": {
  "kernelspec": {
   "display_name": "Python 3 (ipykernel)",
   "language": "python",
   "name": "python3"
  },
  "language_info": {
   "codemirror_mode": {
    "name": "ipython",
    "version": 3
   },
   "file_extension": ".py",
   "mimetype": "text/x-python",
   "name": "python",
   "nbconvert_exporter": "python",
   "pygments_lexer": "ipython3",
   "version": "3.9.13"
  }
 },
 "nbformat": 4,
 "nbformat_minor": 5
}
